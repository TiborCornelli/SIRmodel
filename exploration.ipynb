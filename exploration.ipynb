{
 "cells": [
  {
   "cell_type": "code",
   "execution_count": 91,
   "metadata": {},
   "outputs": [],
   "source": [
    "import numpy as np\n",
    "import pandas as pd\n",
    "from matplotlib import pyplot as plt\n",
    "from typing import List, Dict"
   ]
  },
  {
   "cell_type": "code",
   "execution_count": 148,
   "metadata": {},
   "outputs": [],
   "source": [
    "class timeSeries():\n",
    "    def __init__(self, df: pd.DataFrame, countries: List[str], start: str, end: str):\n",
    "        df.dateRep = pd.to_datetime(df.dateRep, format='%d/%m/%Y')\n",
    "        self.rawData = df\n",
    "        self.processedData = self.extract_countries_and_time(countries, start, end)\n",
    "\n",
    "\n",
    "    def extract_countries_and_time(self, countries: List[str], start: str, end: str) -> pd.DataFrame:\n",
    "        \"\"\"\n",
    "        :param str df_path: default = path\n",
    "        :param list<str> countries\n",
    "        :param str start: yyyy-mm-dd\n",
    "        :param str end: yyyy-mm-dd \n",
    "        \"\"\"\n",
    "        df = self.rawData\n",
    "        df = df[[\"dateRep\", \"day\", \"month\", \"year\", \"cases\", \"countriesAndTerritories\"]]\n",
    "        df = df[df.countriesAndTerritories.isin(countries)]\n",
    "        df = df.sort_values([\"year\", \"month\",\"day\"])\n",
    "        df[\"cumCases\"] = df.groupby([\"countriesAndTerritories\"])[\"cases\"].cumsum(axis=0)\n",
    "\n",
    "        df = df.reset_index(drop = True)\n",
    "        if (start == \"start\") & (end == \"end\"):\n",
    "            output_df = df\n",
    "        elif (start == \"start\"):\n",
    "            output_df = df[df.dateRep <= end]\n",
    "        elif (end == \"end\"):\n",
    "            output_df = df[df.dateRep >= start]\n",
    "        else:\n",
    "            output_df = df[(start <= df.dateRep) & (df.dateRep <= end)]\n",
    "        return output_df.reset_index(drop = True)\n",
    "\n",
    "    def plot(self) -> pd.DataFrame:\n",
    "        df = self.processedData\n",
    "        groups = df.groupby(\"countriesAndTerritories\")\n",
    "\n",
    "        fig, ax = plt.subplots(figsize = (16,8))\n",
    "        ax.margins(0.05)\n",
    "\n",
    "        output_dict = {}\n",
    "\n",
    "        for name, group in groups:\n",
    "            ax.plot(group.dateRep, group.cumCases, label=name)\n",
    "            output_dict[name] = group\n",
    "\n",
    "        ax.legend()\n",
    "        plt.show()\n",
    "\n",
    "        return output_dict\n",
    "    "
   ]
  },
  {
   "cell_type": "code",
   "execution_count": 152,
   "metadata": {},
   "outputs": [],
   "source": [
    "df = pd.read_csv(\"data/europe_timeseries.csv\")\n",
    "ts = timeSeries(df, [\"Germany\", \"Italy\"], \"2020-02-20\", \"2020-04\")\n",
    "ts.processedData;"
   ]
  },
  {
   "cell_type": "code",
   "execution_count": null,
   "metadata": {},
   "outputs": [],
   "source": []
  }
 ],
 "metadata": {
  "interpreter": {
   "hash": "40d3a090f54c6569ab1632332b64b2c03c39dcf918b08424e98f38b5ae0af88f"
  },
  "kernelspec": {
   "display_name": "Python 3.8.8 ('base')",
   "language": "python",
   "name": "python3"
  },
  "language_info": {
   "codemirror_mode": {
    "name": "ipython",
    "version": 3
   },
   "file_extension": ".py",
   "mimetype": "text/x-python",
   "name": "python",
   "nbconvert_exporter": "python",
   "pygments_lexer": "ipython3",
   "version": "3.8.8"
  },
  "orig_nbformat": 4
 },
 "nbformat": 4,
 "nbformat_minor": 2
}
