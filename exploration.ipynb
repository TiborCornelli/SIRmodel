{
 "cells": [
  {
   "cell_type": "code",
   "execution_count": 1,
   "metadata": {},
   "outputs": [],
   "source": [
    "import pandas as pd"
   ]
  },
  {
   "cell_type": "code",
   "execution_count": 1,
   "metadata": {},
   "outputs": [],
   "source": [
    "def time_interval(df, start, end):\n",
    "    return df[(start < df.dateRep) & (df.dateRep < end)]"
   ]
  },
  {
   "cell_type": "code",
   "execution_count": null,
   "metadata": {},
   "outputs": [],
   "source": [
    "def extract_data(df_path, country):\n",
    "    df = pd.read_csv(df_path)\n",
    "    df = df[[\"dateRep\", \"day\", \"month\", \"year\", \"cases\", \"countriesAndTerritories\"]]\n",
    "    df = df[df.countriesAndTerritories == country]\n",
    "    df.dateRep = pd.to_datetime(df.dateRep, format='%d/%m/%Y')\n",
    "    df = df.sort_values([\"year\", \"month\",\"day\"])\n",
    "    df.to_csv(df_path[:-4] + \"_\" + country.lower() + \".csv\", index=False)\n",
    "\n",
    "#extract_data(\"data/europe_timeseries.csv\", \"Germany\")"
   ]
  }
 ],
 "metadata": {
  "interpreter": {
   "hash": "40d3a090f54c6569ab1632332b64b2c03c39dcf918b08424e98f38b5ae0af88f"
  },
  "kernelspec": {
   "display_name": "Python 3.8.8 ('base')",
   "language": "python",
   "name": "python3"
  },
  "language_info": {
   "codemirror_mode": {
    "name": "ipython",
    "version": 3
   },
   "file_extension": ".py",
   "mimetype": "text/x-python",
   "name": "python",
   "nbconvert_exporter": "python",
   "pygments_lexer": "ipython3",
   "version": "3.8.8"
  },
  "orig_nbformat": 4
 },
 "nbformat": 4,
 "nbformat_minor": 2
}
