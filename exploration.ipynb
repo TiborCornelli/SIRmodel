{
 "cells": [
  {
   "cell_type": "code",
   "execution_count": 68,
   "metadata": {},
   "outputs": [],
   "source": [
    "import numpy as np\n",
    "from numpy.linalg import inv, multi_dot\n",
    "from numpy import matmul, exp, transpose, multiply\n",
    "import pandas as pd\n",
    "from matplotlib import pyplot as plt\n",
    "from typing import List\n",
    "from scipy.optimize import minimize"
   ]
  },
  {
   "cell_type": "code",
   "execution_count": 148,
   "metadata": {},
   "outputs": [],
   "source": [
    "class timeSeries():\n",
    "    def __init__(self, df: pd.DataFrame, country: str, start: str, end: str):\n",
    "        self.country = country\n",
    "        df.loc[:,'dateRep'] = pd.to_datetime(df.dateRep, format='%d/%m/%Y')\n",
    "        self.start = start\n",
    "        self.end = end\n",
    "        self.rawData = df\n",
    "        self.allCountries = df.countriesAndTerritories.unique()\n",
    "        self.processedData = self.extract_country_and_time(start, end)\n",
    "\n",
    "    def extract_country_and_time(self, start_str: str, end_str: str) -> pd.DataFrame:\n",
    "        \"\"\"\n",
    "        Filters the data frame by the specified time frame and countries.\n",
    "        Args:\n",
    "            df_path (str): default = path\n",
    "            start (str): yyyy-mm-dd\n",
    "            end (str): yyyy-mm-dd \n",
    "        \"\"\"\n",
    "\n",
    "        df = self.rawData.copy(deep = False)\n",
    "        df = df[df.countriesAndTerritories == self.country]\n",
    "        df = df[[\"dateRep\", \"day\", \"month\", \"year\", \"cases\"]]\n",
    "        df = df.sort_values([\"year\", \"month\",\"day\"])\n",
    "    \n",
    "        df = df.set_index('dateRep')\n",
    "        idx = pd.date_range(df.index[0], df.index[-1])\n",
    "        df = df.reindex(idx, fill_value=np.nan)\n",
    "        df.loc[:,\"cumCases\"] = df.loc[:,\"cases\"].interpolate(method=\"linear\").cumsum(axis=0)\n",
    "\n",
    "        try:\n",
    "            start = pd.to_datetime(start_str)\n",
    "            df = df.loc[start:]\n",
    "        except:\n",
    "            if (start_str != \"start\"):\n",
    "                print(\"Wrong input\")\n",
    "\n",
    "        try:\n",
    "            end = pd.to_datetime(end_str)\n",
    "            df = df.loc[:end]\n",
    "        except:\n",
    "            if (end_str != \"end\"):\n",
    "                print(\"Wrong input\")\n",
    "        \n",
    "        df.loc[:,\"t\"] = list(range(len(df)))\n",
    "                \n",
    "        print(df)\n",
    "        return df\n",
    "\n",
    "    def linear_regression(self):\n",
    "        \"\"\"\n",
    "        Returns beta of the linear regression\n",
    "        and plots the prediction vs real data\n",
    "        \"\"\"\n",
    "        df = self.processedData.copy(deep=False)\n",
    "        M = len(df)\n",
    "        I_0 = np.double(df.loc[df[\"t\"] == 0, \"cumCases\"])\n",
    "        t = np.array(df.loc[df[\"t\"] > 0, \"t\"]).reshape(-1, 1)\n",
    "        I = np.array(df.loc[df[\"t\"] > 0, \"cumCases\"]).reshape(-1, 1)\n",
    "        #! Achtung diese Zeile ist nur zum Testen\n",
    "        #I = I + 20\n",
    "\n",
    "        # Lineares Ausgleichsproblem\n",
    "        X = t\n",
    "        XT = t.transpose()\n",
    "        y = np.log(I) - np.log(I_0)\n",
    "        beta_hat = np.double(multi_dot([inv(matmul(XT, X)),XT,y])).round(4)\n",
    "        prediction = I_0 * exp(beta_hat * t)\n",
    "        \n",
    "\n",
    "        fig, ax = plt.subplots(figsize = (8,5))\n",
    "        ax.margins(0.05)\n",
    "        country = self.country\n",
    "        ax.set_title(f\"{self.start} bis {self.end}, $I_0 = {int(I_0)}$\", fontsize = 18)\n",
    "        ax.plot(df.t[1:],prediction, label=\"LAP\", color=\"red\",)\n",
    "        ax.plot(df.t[1:],df.cumCases[1:], label=\"Echte Daten\", color=\"blue\",marker=\".\", ls='none')\n",
    "        ax.text(0.65, 0.8, f\"$\\hat \\\\beta = $ {str(beta_hat)}\", transform=ax.transAxes, fontsize=18)\n",
    "        plt.rc('legend',fontsize=16)\n",
    "\n",
    "        ax.legend()\n",
    "        plt.show() \n",
    "        return beta_hat\n",
    "    \n",
    "    def nonlinear_regression(self):\n",
    "        \"\"\"\n",
    "        Returns the result for Newton's method\n",
    "        and plots the prediction vs real data\n",
    "        \"\"\"\n",
    "        df = self.processedData\n",
    "        M = len(df)\n",
    "        I_0 = np.double(df.loc[df[\"t\"] == 0, \"cumCases\"])\n",
    "        t = np.array(df.loc[df[\"t\"] > 0, \"t\"],dtype=np.float128).reshape(-1, 1)\n",
    "        I = np.array(df.loc[df[\"t\"] > 0, \"cumCases\"],dtype=np.float128).reshape(-1, 1)\n",
    "\n",
    "        # Newton's Method\n",
    "        def G(x):\n",
    "            return matmul(transpose(I - I_0*np.double(0.00001)*exp(x*t)), I - I_0*exp(x*t))\n",
    "\n",
    "        print(G(0.1))\n",
    "\n",
    "        # G'(x)\n",
    "        def dGdx(x):\n",
    "            return 2*I_0 * np.matmul(transpose(I_0 * exp(x*t)-I),t * exp(x * t))\n",
    "            #return 2* (I_0**2) *np.sum(np.multiply(t,multiply(exp(x*t)-I/I_0,exp(x*t))))\n",
    "\n",
    "        beta_star = np.double(minimize(G, x0=self.linear_regression(), method=\"Newton-CG\", jac=dGdx).x).round(4)\n",
    "        prediction = I_0*np.double(0.00001) * exp(beta_star * t)\n",
    "        \n",
    "\n",
    "        fig, ax = plt.subplots(figsize = (8,5))\n",
    "        ax.margins(0.05)\n",
    "\n",
    "        ax.set_title(f\"{self.start} bis {self.end}, $I_0 = {int(I_0)}$\", fontsize = 18)\n",
    "        ax.plot(df.t[1:],prediction, label=\"Newton-Methode\", color=\"red\",)\n",
    "        ax.plot(df.t[1:],df.cumCases[1:], label=\"Echte Daten\", color=\"blue\",marker=\".\",ls='none')\n",
    "        ax.text(0.65, 0.8, f\"$ \\\\beta^* = $ {str(beta_star)}\", transform=ax.transAxes, fontsize=18)\n",
    "        plt.rc('legend',fontsize=16)\n",
    "\n",
    "        ax.legend()\n",
    "        plt.show()\n",
    "        return beta_star\n",
    "        "
   ]
  },
  {
   "cell_type": "code",
   "execution_count": 149,
   "metadata": {},
   "outputs": [
    {
     "name": "stdout",
     "output_type": "stream",
     "text": [
      "             day  month    year   cases  cumCases   t\n",
      "2020-01-31  31.0    1.0  2020.0     5.0     40.50   0\n",
      "2020-02-01   1.0    2.0  2020.0     1.0     41.50   1\n",
      "2020-02-02   NaN    NaN     NaN     NaN     42.50   2\n",
      "2020-02-03   3.0    2.0  2020.0     1.0     43.50   3\n",
      "2020-02-04   4.0    2.0  2020.0     4.0     47.50   4\n",
      "2020-02-05   5.0    2.0  2020.0     2.0     49.50   5\n",
      "2020-02-06   6.0    2.0  2020.0     1.0     50.50   6\n",
      "2020-02-07   7.0    2.0  2020.0     1.0     51.50   7\n",
      "2020-02-08   NaN    NaN     NaN     NaN     52.50   8\n",
      "2020-02-09   NaN    NaN     NaN     NaN     53.50   9\n",
      "2020-02-10  10.0    2.0  2020.0     1.0     54.50  10\n",
      "2020-02-11  11.0    2.0  2020.0     3.0     57.50  11\n",
      "2020-02-12  12.0    2.0  2020.0     1.0     58.50  12\n",
      "2020-02-13   NaN    NaN     NaN     NaN     59.50  13\n",
      "2020-02-14   NaN    NaN     NaN     NaN     60.50  14\n",
      "2020-02-15  15.0    2.0  2020.0     1.0     61.50  15\n",
      "2020-02-16   NaN    NaN     NaN     NaN     62.50  16\n",
      "2020-02-17  17.0    2.0  2020.0     1.0     63.50  17\n",
      "2020-02-18  18.0    2.0  2020.0     1.0     64.50  18\n",
      "2020-02-19   NaN    NaN     NaN     NaN     66.00  19\n",
      "2020-02-20  20.0    2.0  2020.0     2.0     68.00  20\n",
      "2020-02-21   NaN    NaN     NaN     NaN     69.75  21\n",
      "2020-02-22   NaN    NaN     NaN     NaN     71.25  22\n",
      "2020-02-23   NaN    NaN     NaN     NaN     72.50  23\n",
      "2020-02-24  24.0    2.0  2020.0     1.0     73.50  24\n",
      "2020-02-25  25.0    2.0  2020.0     3.0     76.50  25\n",
      "2020-02-26  26.0    2.0  2020.0     7.0     83.50  26\n",
      "2020-02-27  27.0    2.0  2020.0    24.0    107.50  27\n",
      "2020-02-28  28.0    2.0  2020.0    47.0    154.50  28\n",
      "2020-02-29  29.0    2.0  2020.0    23.0    177.50  29\n",
      "2020-03-01   1.0    3.0  2020.0    35.0    212.50  30\n",
      "2020-03-02   2.0    3.0  2020.0    42.0    254.50  31\n",
      "2020-03-03   3.0    3.0  2020.0    84.0    338.50  32\n",
      "2020-03-04   4.0    3.0  2020.0   157.0    495.50  33\n",
      "2020-03-05   5.0    3.0  2020.0   186.0    681.50  34\n",
      "2020-03-06   6.0    3.0  2020.0   187.0    868.50  35\n",
      "2020-03-07   7.0    3.0  2020.0   142.0   1010.50  36\n",
      "2020-03-08   8.0    3.0  2020.0   103.0   1113.50  37\n",
      "2020-03-09   9.0    3.0  2020.0   345.0   1458.50  38\n",
      "2020-03-10  10.0    3.0  2020.0   595.0   2053.50  39\n",
      "2020-03-11  11.0    3.0  2020.0   756.0   2809.50  40\n",
      "2020-03-12  12.0    3.0  2020.0   992.0   3801.50  41\n",
      "2020-03-13  13.0    3.0  2020.0  1460.0   5261.50  42\n",
      "2020-03-14  14.0    3.0  2020.0  1303.0   6564.50  43\n",
      "2020-03-15  15.0    3.0  2020.0   980.0   7544.50  44\n",
      "2020-03-16  16.0    3.0  2020.0  2037.0   9581.50  45\n",
      "2020-03-17  17.0    3.0  2020.0  3025.0  12606.50  46\n",
      "2020-03-18  18.0    3.0  2020.0  3599.0  16205.50  47\n",
      "2020-03-19  19.0    3.0  2020.0  4057.0  20262.50  48\n",
      "2020-03-20  20.0    3.0  2020.0  4050.0  24312.50  49\n"
     ]
    },
    {
     "data": {
      "image/png": "[encoded data removed]",
      "text/plain": [
       "<Figure size 576x360 with 1 Axes>"
      ]
     },
     "metadata": {
      "needs_background": "light"
     },
     "output_type": "display_data"
    },
    {
     "data": {
      "text/plain": [
       "0.0909"
      ]
     },
     "execution_count": 149,
     "metadata": {},
     "output_type": "execute_result"
    }
   ],
   "source": [
    "df = pd.read_csv(\"data/europe_timeseries.csv\")\n",
    "ts = timeSeries(df, \"Germany\", \"2020-01-31\", \"2020-03-20\")\n",
    "ts.linear_regression()"
   ]
  },
  {
   "cell_type": "code",
   "execution_count": 151,
   "metadata": {},
   "outputs": [
    {
     "name": "stdout",
     "output_type": "stream",
     "text": [
      "[[1.19748433e+09]]\n"
     ]
    },
    {
     "data": {
      "image/png": "[encoded data removed]",
      "text/plain": [
       "<Figure size 576x360 with 1 Axes>"
      ]
     },
     "metadata": {
      "needs_background": "light"
     },
     "output_type": "display_data"
    },
    {
     "name": "stderr",
     "output_type": "stream",
     "text": [
      "/opt/anaconda3/lib/python3.8/site-packages/numpy/core/fromnumeric.py:87: VisibleDeprecationWarning: Creating an ndarray from ragged nested sequences (which is a list-or-tuple of lists-or-tuples-or ndarrays with different lengths or shapes) is deprecated. If you meant to do this, you must specify 'dtype=object' when creating the ndarray.\n",
      "  return ufunc.reduce(obj, axis, dtype, out, **passkwargs)\n",
      "<ipython-input-148-7eda6b4a69aa>:102: RuntimeWarning: overflow encountered in exp\n",
      "  return 2*I_0 * np.matmul(transpose(I_0 * exp(x*t)-I),t * exp(x * t))\n",
      "<ipython-input-148-7eda6b4a69aa>:102: RuntimeWarning: overflow encountered in matmul\n",
      "  return 2*I_0 * np.matmul(transpose(I_0 * exp(x*t)-I),t * exp(x * t))\n",
      "/opt/anaconda3/lib/python3.8/site-packages/scipy/optimize/optimize.py:1799: RuntimeWarning: invalid value encountered in multiply\n",
      "  ri = ri + alphai * Ap\n"
     ]
    },
    {
     "data": {
      "image/png": "[encoded data removed]",
      "text/plain": [
       "<Figure size 576x360 with 1 Axes>"
      ]
     },
     "metadata": {
      "needs_background": "light"
     },
     "output_type": "display_data"
    },
    {
     "data": {
      "text/plain": [
       "0.0909"
      ]
     },
     "execution_count": 151,
     "metadata": {},
     "output_type": "execute_result"
    }
   ],
   "source": [
    "ts.nonlinear_regression()"
   ]
  },
  {
   "cell_type": "code",
   "execution_count": 107,
   "metadata": {},
   "outputs": [
    {
     "data": {
      "text/plain": [
       "array([1, 4, 9])"
      ]
     },
     "execution_count": 107,
     "metadata": {},
     "output_type": "execute_result"
    }
   ],
   "source": [
    "a =np.array([1,2,3])\n",
    "a * a"
   ]
  },
  {
   "cell_type": "code",
   "execution_count": null,
   "metadata": {},
   "outputs": [],
   "source": []
  }
 ],
 "metadata": {
  "interpreter": {
   "hash": "40d3a090f54c6569ab1632332b64b2c03c39dcf918b08424e98f38b5ae0af88f"
  },
  "kernelspec": {
   "display_name": "Python 3.8.8 ('base')",
   "language": "python",
   "name": "python3"
  },
  "language_info": {
   "codemirror_mode": {
    "name": "ipython",
    "version": 3
   },
   "file_extension": ".py",
   "mimetype": "text/x-python",
   "name": "python",
   "nbconvert_exporter": "python",
   "pygments_lexer": "ipython3",
   "version": "3.8.8"
  },
  "orig_nbformat": 4
 },
 "nbformat": 4,
 "nbformat_minor": 2
}
