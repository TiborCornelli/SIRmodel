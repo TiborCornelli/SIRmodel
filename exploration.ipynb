{
 "cells": [
  {
   "cell_type": "code",
   "execution_count": 1,
   "metadata": {},
   "outputs": [],
   "source": [
    "import numpy as np\n",
    "from numpy.linalg import inv, multi_dot\n",
    "from numpy import matmul, exp, transpose, multiply\n",
    "import pandas as pd\n",
    "from matplotlib import pyplot as plt\n",
    "from typing import List\n",
    "from scipy.optimize import minimize"
   ]
  },
  {
   "cell_type": "code",
   "execution_count": 76,
   "metadata": {},
   "outputs": [],
   "source": [
    "class timeSeries():\n",
    "    def __init__(self, df: pd.DataFrame, country: str, start: str, end: str):\n",
    "        self.country = country\n",
    "        df.loc[:,'dateRep'] = pd.to_datetime(df.dateRep, format='%d/%m/%Y')\n",
    "        self.start = start\n",
    "        self.end = end\n",
    "        self.rawData = df\n",
    "        self.allCountries = df.countriesAndTerritories.unique()\n",
    "        self.processedData = self.extract_country_and_time(start, end)\n",
    "\n",
    "    def extract_country_and_time(self, start: str, end: str) -> pd.DataFrame:\n",
    "        \"\"\"\n",
    "        Filters the data frame by the specified time frame and countries.\n",
    "        Args:\n",
    "            df_path (str): default = path\n",
    "            start (str): yyyy-mm-dd\n",
    "            end (str): yyyy-mm-dd \n",
    "        \"\"\"\n",
    "        df = self.rawData.copy(deep = False)\n",
    "        df = df[df.countriesAndTerritories == self.country]\n",
    "        df = df[[\"dateRep\", \"day\", \"month\", \"year\", \"cases\"]]\n",
    "        df = df.sort_values([\"year\", \"month\",\"day\"])\n",
    "\n",
    "        if (start == \"start\") & (end == \"end\"):\n",
    "            output_df = df\n",
    "        elif (start == \"start\"):\n",
    "            output_df = df[df.dateRep <= end]\n",
    "        elif (end == \"end\"):\n",
    "            output_df = df[df.dateRep >= start]\n",
    "        else:\n",
    "            output_df = df[(start <= df.dateRep) & (df.dateRep <= end)]\n",
    "        \n",
    "        output_df = output_df.set_index('dateRep')\n",
    "        idx = pd.date_range(self.start, self.end)\n",
    "        output_df = output_df.reindex(idx, fill_value=np.nan)\n",
    "        output_df.loc[:,\"t\"] = list(range(len(output_df)))\n",
    "        output_df.loc[:,\"cumCases\"] = output_df.loc[:,\"cases\"].cumsum(axis=0)\n",
    "        output_df.loc[:,\"cumCases\"] = output_df.loc[:,\"cumCases\"].interpolate(method=\"linear\")\n",
    "\n",
    "        print(output_df)\n",
    "        return output_df\n",
    "\n",
    "    def linear_regression(self):\n",
    "        \"\"\"\n",
    "        Returns beta of the linear regression\n",
    "        and plots the prediction vs real data\n",
    "        \"\"\"\n",
    "        df = self.processedData.copy(deep=False)\n",
    "        M = len(df)\n",
    "        I_0 = np.double(df.loc[df[\"t\"] == 0, \"cumCases\"])\n",
    "        t = np.array(df.loc[df[\"t\"] > 0, \"t\"]).reshape(-1, 1)\n",
    "        I = np.array(df.loc[df[\"t\"] > 0, \"cumCases\"]).reshape(-1, 1)\n",
    "\n",
    "        # Lineares Ausgleichsproblem\n",
    "        X = t\n",
    "        XT = t.transpose()\n",
    "        y = np.log(I) - np.log(I_0)\n",
    "        beta_hat = np.double(multi_dot([inv(matmul(XT, X)),XT,y])).round(4)\n",
    "        prediction = I_0 * exp(beta_hat * t)\n",
    "        \n",
    "\n",
    "        fig, ax = plt.subplots(figsize = (8,5))\n",
    "        ax.margins(0.05)\n",
    "        country = self.country\n",
    "        ax.set_title(f\"{country}, {self.start} - {self.end}\", fontsize = 18)\n",
    "        ax.plot(df.t[1:],prediction, label=\"LAP\", color=\"red\",)\n",
    "        ax.plot(df.t[1:],df.cumCases[1:], label=\"Echte Daten\", color=\"blue\",marker=\".\")\n",
    "        ax.text(0.65, 0.8, f\"$\\hat \\\\beta = $ {str(beta_hat)}\", transform=ax.transAxes, fontsize=18)\n",
    "        plt.rc('legend',fontsize=16)\n",
    "\n",
    "        ax.legend()\n",
    "        plt.show() \n",
    "        return beta_hat\n",
    "    \n",
    "    def nonlinear_regression(self):\n",
    "        \"\"\"\n",
    "        Returns the result for Newton's method\n",
    "        and plots the prediction vs real data\n",
    "        \"\"\"\n",
    "        df = self.processedData\n",
    "        M = len(df)\n",
    "        I_0 = np.double(df.loc[df[\"t\"] == 0, \"cumCases\"])\n",
    "        t = np.array(df.loc[df[\"t\"] > 0, \"t\"]).reshape(-1, 1)\n",
    "        I = np.array(df.loc[df[\"t\"] > 0, \"cumCases\"]).reshape(-1, 1)\n",
    "\n",
    "        # Newton's Method\n",
    "        def G(x):\n",
    "            return matmul(transpose(I - I_0*exp(x*t)), I - I_0*exp(x*t))\n",
    "\n",
    "        # G'(x)\n",
    "        def dGdx(x):\n",
    "            return 2* (I_0**2) *np.sum(np.multiply(t,multiply(exp(x*t)-I/I_0,exp(x*t))))\n",
    "\n",
    "        country = self.country\n",
    "        beta_star = float(minimize(G, x0=self.linear_regression(), method=\"Newton-CG\", jac=dGdx).x)\n",
    "        prediction = I_0 * exp(beta_star * t)\n",
    "        \n",
    "\n",
    "        fig, ax = plt.subplots(figsize = (8,5))\n",
    "        ax.margins(0.05)\n",
    "\n",
    "        ax.set_title(f\"{country}, {self.start} - {self.end}\", fontsize = 18)\n",
    "        ax.plot(df.t[1:],prediction, label=\"Newton-Methode\", color=\"red\",)\n",
    "        ax.plot(df.t[1:],df.cumCases[1:], label=\"Echte Daten\", color=\"blue\",marker=\"-\")\n",
    "        ax.text(0.65, 0.8, f\"$ \\\\beta^* = $ {str(beta_star)}\", transform=ax.transAxes, fontsize=18)\n",
    "        plt.rc('legend',fontsize=16)\n",
    "\n",
    "        ax.legend()\n",
    "        plt.show()\n",
    "        return beta_star\n",
    "        "
   ]
  },
  {
   "cell_type": "code",
   "execution_count": 72,
   "metadata": {},
   "outputs": [],
   "source": [
    "idx = pd.date_range('2020-02', '2020-03-15')\n",
    "ts.processedData.to_csv('processed_data/germany.csv')"
   ]
  },
  {
   "cell_type": "code",
   "execution_count": 77,
   "metadata": {},
   "outputs": [
    {
     "name": "stdout",
     "output_type": "stream",
     "text": [
      "             day  month    year   cases   t     cumCases\n",
      "2020-02-01   1.0    2.0  2020.0     1.0   0     1.000000\n",
      "2020-02-02   NaN    NaN     NaN     NaN   1     1.500000\n",
      "2020-02-03   3.0    2.0  2020.0     1.0   2     2.000000\n",
      "2020-02-04   4.0    2.0  2020.0     4.0   3     6.000000\n",
      "2020-02-05   5.0    2.0  2020.0     2.0   4     8.000000\n",
      "2020-02-06   6.0    2.0  2020.0     1.0   5     9.000000\n",
      "2020-02-07   7.0    2.0  2020.0     1.0   6    10.000000\n",
      "2020-02-08   NaN    NaN     NaN     NaN   7    10.333333\n",
      "2020-02-09   NaN    NaN     NaN     NaN   8    10.666667\n",
      "2020-02-10  10.0    2.0  2020.0     1.0   9    11.000000\n",
      "2020-02-11  11.0    2.0  2020.0     3.0  10    14.000000\n",
      "2020-02-12  12.0    2.0  2020.0     1.0  11    15.000000\n",
      "2020-02-13   NaN    NaN     NaN     NaN  12    15.333333\n",
      "2020-02-14   NaN    NaN     NaN     NaN  13    15.666667\n",
      "2020-02-15  15.0    2.0  2020.0     1.0  14    16.000000\n",
      "2020-02-16   NaN    NaN     NaN     NaN  15    16.500000\n",
      "2020-02-17  17.0    2.0  2020.0     1.0  16    17.000000\n",
      "2020-02-18  18.0    2.0  2020.0     1.0  17    18.000000\n",
      "2020-02-19   NaN    NaN     NaN     NaN  18    19.000000\n",
      "2020-02-20  20.0    2.0  2020.0     2.0  19    20.000000\n",
      "2020-02-21   NaN    NaN     NaN     NaN  20    20.250000\n",
      "2020-02-22   NaN    NaN     NaN     NaN  21    20.500000\n",
      "2020-02-23   NaN    NaN     NaN     NaN  22    20.750000\n",
      "2020-02-24  24.0    2.0  2020.0     1.0  23    21.000000\n",
      "2020-02-25  25.0    2.0  2020.0     3.0  24    24.000000\n",
      "2020-02-26  26.0    2.0  2020.0     7.0  25    31.000000\n",
      "2020-02-27  27.0    2.0  2020.0    24.0  26    55.000000\n",
      "2020-02-28  28.0    2.0  2020.0    47.0  27   102.000000\n",
      "2020-02-29  29.0    2.0  2020.0    23.0  28   125.000000\n",
      "2020-03-01   1.0    3.0  2020.0    35.0  29   160.000000\n",
      "2020-03-02   2.0    3.0  2020.0    42.0  30   202.000000\n",
      "2020-03-03   3.0    3.0  2020.0    84.0  31   286.000000\n",
      "2020-03-04   4.0    3.0  2020.0   157.0  32   443.000000\n",
      "2020-03-05   5.0    3.0  2020.0   186.0  33   629.000000\n",
      "2020-03-06   6.0    3.0  2020.0   187.0  34   816.000000\n",
      "2020-03-07   7.0    3.0  2020.0   142.0  35   958.000000\n",
      "2020-03-08   8.0    3.0  2020.0   103.0  36  1061.000000\n",
      "2020-03-09   9.0    3.0  2020.0   345.0  37  1406.000000\n",
      "2020-03-10  10.0    3.0  2020.0   595.0  38  2001.000000\n",
      "2020-03-11  11.0    3.0  2020.0   756.0  39  2757.000000\n",
      "2020-03-12  12.0    3.0  2020.0   992.0  40  3749.000000\n",
      "2020-03-13  13.0    3.0  2020.0  1460.0  41  5209.000000\n",
      "2020-03-14  14.0    3.0  2020.0  1303.0  42  6512.000000\n",
      "2020-03-15  15.0    3.0  2020.0   980.0  43  7492.000000\n"
     ]
    },
    {
     "data": {
      "image/png": "[encoded data removed]",
      "text/plain": [
       "<Figure size 576x360 with 1 Axes>"
      ]
     },
     "metadata": {
      "needs_background": "light"
     },
     "output_type": "display_data"
    },
    {
     "data": {
      "text/plain": [
       "0.1896"
      ]
     },
     "execution_count": 77,
     "metadata": {},
     "output_type": "execute_result"
    }
   ],
   "source": [
    "df = pd.read_csv(\"data/europe_timeseries.csv\")\n",
    "ts = timeSeries(df, \"Germany\", \"2020-02\", \"2020-03-15\")\n",
    "ts.linear_regression()"
   ]
  },
  {
   "cell_type": "code",
   "execution_count": 67,
   "metadata": {},
   "outputs": [
    {
     "data": {
      "text/plain": [
       "array([3., 3., 3.])"
      ]
     },
     "execution_count": 67,
     "metadata": {},
     "output_type": "execute_result"
    }
   ],
   "source": [
    "np.linspace(3,3,3)"
   ]
  },
  {
   "cell_type": "code",
   "execution_count": 15,
   "metadata": {},
   "outputs": [],
   "source": [
    "def dGdx(x):\n",
    "    I_0 = 10\n",
    "    t = np.linspace(1,2,2)\n",
    "    I = np.linspace(1,2,2)\n",
    "    return 2* (I_0**2) *np.multiply(t,multiply(exp(x*t)-I/I_0,exp(x*t)))"
   ]
  },
  {
   "cell_type": "code",
   "execution_count": 16,
   "metadata": {},
   "outputs": [
    {
     "data": {
      "text/plain": [
       "array([9.70325986e+10, 9.41541067e+19])"
      ]
     },
     "execution_count": 16,
     "metadata": {},
     "output_type": "execute_result"
    }
   ],
   "source": [
    "dGdx(10)"
   ]
  },
  {
   "cell_type": "code",
   "execution_count": null,
   "metadata": {},
   "outputs": [],
   "source": []
  }
 ],
 "metadata": {
  "interpreter": {
   "hash": "40d3a090f54c6569ab1632332b64b2c03c39dcf918b08424e98f38b5ae0af88f"
  },
  "kernelspec": {
   "display_name": "Python 3.8.8 ('base')",
   "language": "python",
   "name": "python3"
  },
  "language_info": {
   "codemirror_mode": {
    "name": "ipython",
    "version": 3
   },
   "file_extension": ".py",
   "mimetype": "text/x-python",
   "name": "python",
   "nbconvert_exporter": "python",
   "pygments_lexer": "ipython3",
   "version": "3.8.8"
  },
  "orig_nbformat": 4
 },
 "nbformat": 4,
 "nbformat_minor": 2
}
